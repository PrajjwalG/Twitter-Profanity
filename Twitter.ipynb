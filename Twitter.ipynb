{
 "cells": [
  {
   "cell_type": "code",
   "execution_count": 2,
   "metadata": {},
   "outputs": [],
   "source": [
    "import re"
   ]
  },
  {
   "cell_type": "code",
   "execution_count": 3,
   "metadata": {},
   "outputs": [],
   "source": [
    "file = open(\"slurs.txt\", \"r\")# reading the racial slurs in the .txt file (assuming the format they are provided in)\n",
    "#slurs.txt contains all the slurs seperated by 'enter' only.\n",
    "data = file.read()\n",
    "data = data.split(\"\\n\")\n",
    "slurs = set(data) # Using a set for the racial slurs, so that it has unique values and can be used for optimized search\n",
    "try:\n",
    "    slurs.remove('') # removing the empty string that might get added from the .txt file\n",
    "except:\n",
    "    pass"
   ]
  },
  {
   "cell_type": "code",
   "execution_count": 4,
   "metadata": {},
   "outputs": [],
   "source": [
    "#The tweets are read and converted into a list\n",
    "file = open(\"tweets.txt\", \"r\")\n",
    "#tweets.txt contains all the tweets seperated by 'enter' only\n",
    "data = file.read()\n",
    "tweets = data.split(\"\\n\")\n",
    "try:\n",
    "    tweets.remove('')# removing the empty string that might get added from the .txt file\n",
    "except:\n",
    "    pass"
   ]
  },
  {
   "cell_type": "code",
   "execution_count": 5,
   "metadata": {},
   "outputs": [],
   "source": [
    "degree = [] # this contains the degree of profanity for each tweet\n",
    "#Degree of profanity is calculated as the Percentage of words which are considered slurs divived by total no. of words in the sentence\n",
    "for t in tweets:\n",
    "    t = re.sub(r'[^\\w\\s]', ' ', t)\n",
    "    words = t.split() \n",
    "    # Pre processing the string using re to remove any punctuation and replacing it with a space so it doesnt change any word. \n",
    "    # We are splitting the string into a list using ' ' as a delimiter so we can check for profanity on each word\n",
    "    degree.append(round(sum(1 for w in words if w in slurs)/len(words)*100)) # calculating the degree of profanity\n",
    "    \n"
   ]
  },
  {
   "cell_type": "code",
   "execution_count": 9,
   "metadata": {},
   "outputs": [
    {
     "name": "stdout",
     "output_type": "stream",
     "text": [
      "Tweet 1:  17 %\n",
      "Tweet 2:  40 %\n",
      "Tweet 3:  0 %\n",
      "Tweet 4:  50 %\n"
     ]
    }
   ],
   "source": [
    "for i in range(len(tweets)):\n",
    "    print(f'Tweet {i+1}: ',degree[i],'%')"
   ]
  },
  {
   "cell_type": "code",
   "execution_count": null,
   "metadata": {},
   "outputs": [],
   "source": []
  }
 ],
 "metadata": {
  "kernelspec": {
   "display_name": "base",
   "language": "python",
   "name": "python3"
  },
  "language_info": {
   "codemirror_mode": {
    "name": "ipython",
    "version": 3
   },
   "file_extension": ".py",
   "mimetype": "text/x-python",
   "name": "python",
   "nbconvert_exporter": "python",
   "pygments_lexer": "ipython3",
   "version": "3.9.13"
  },
  "orig_nbformat": 4,
  "vscode": {
   "interpreter": {
    "hash": "2f9637c71fa196a5c363a49013a14cc59b10d1bdf193b35601a7c425b9f33aab"
   }
  }
 },
 "nbformat": 4,
 "nbformat_minor": 2
}
